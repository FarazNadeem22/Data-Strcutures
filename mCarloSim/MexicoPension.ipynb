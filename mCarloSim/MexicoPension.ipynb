{
  "nbformat": 4,
  "nbformat_minor": 0,
  "metadata": {
    "colab": {
      "provenance": [],
      "authorship_tag": "ABX9TyOMUs4g1VsZT6MJJygtaN/A",
      "include_colab_link": true
    },
    "kernelspec": {
      "name": "python3",
      "display_name": "Python 3"
    },
    "language_info": {
      "name": "python"
    }
  },
  "cells": [
    {
      "cell_type": "markdown",
      "metadata": {
        "id": "view-in-github",
        "colab_type": "text"
      },
      "source": [
        "<a href=\"https://colab.research.google.com/github/FarazNadeem22/Data-Strcutures/blob/master/MexicoPension.ipynb\" target=\"_parent\"><img src=\"https://colab.research.google.com/assets/colab-badge.svg\" alt=\"Open In Colab\"/></a>"
      ]
    },
    {
      "cell_type": "code",
      "execution_count": 128,
      "metadata": {
        "id": "06fMLtLPoHWT"
      },
      "outputs": [],
      "source": [
        "import numpy as np\n",
        "import pandas as pd\n",
        "import matplotlib.pyplot as plt\n",
        "from typing import Dict, Any\n",
        "import time"
      ]
    },
    {
      "cell_type": "markdown",
      "source": [
        "# Simulation parameters"
      ],
      "metadata": {
        "id": "VCqSGxKPoVnz"
      }
    },
    {
      "cell_type": "code",
      "source": [
        "# Simulation parameters\n",
        "NUM_SIMULATIONS = 1_000_000\n",
        "BUDGET: int = 8_500_000_000\n",
        "COST_PER_PERSON: int = 500 * 12\n",
        "MAX_COVERAGE: int = BUDGET // COST_PER_PERSON\n",
        "TOTAL_POOR = 1_872_313\n",
        "\n",
        "# Enrollment data with leakage and undercoverage rates\n",
        "OPTIONS: Dict[str, Dict[str, Any]] = {\n",
        "    \"Option 1\": {\n",
        "        \"Poor\": 637_897,\n",
        "        \"Not_poor\": 221_402,\n",
        "        \"Undercoverage\": .2576,\n",
        "        \"Leakage\": .6593\n",
        "         },\n",
        "    \"Option 2\": {\n",
        "        \"Poor\": 801_537,\n",
        "        \"Not_poor\": 611_645,\n",
        "        \"Undercoverage\": 0.4328,\n",
        "        \"Leakage\": .5719\n",
        "        },\n",
        "    \"Option 3\": {\n",
        "        \"Poor\": 1_047_934,\n",
        "        \"Not_poor\": 1_992_910,\n",
        "        \"Undercoverage\": .6554,\n",
        "        \"Leakage\": .4403\n",
        "        }\n",
        "    }"
      ],
      "metadata": {
        "id": "RMzIfWsGoT1g"
      },
      "execution_count": 129,
      "outputs": []
    },
    {
      "cell_type": "markdown",
      "source": [],
      "metadata": {
        "id": "3ugTPuS7uC9l"
      }
    },
    {
      "cell_type": "markdown",
      "source": [
        "# Monte Carlo Simulation"
      ],
      "metadata": {
        "id": "ltTwZ6mOpT88"
      }
    },
    {
      "cell_type": "code",
      "source": [
        "# Monete Carlo simulation function\n",
        "def monte_carlo_simulation(num_simulations: int = NUM_SIMULATIONS, max_coverage: int = MAX_COVERAGE, options: Dict[str, Any] = OPTIONS) -> pd.DataFrame:\n",
        "  \"\"\"\n",
        "  Runs a Monte Carlo simulation to estimate the expected number of poor and not-poor individuals covered under budget\n",
        "  constraints for a given policy option.\n",
        "\n",
        "  Returns:\n",
        "  pd.DataFrame: DataFrame containing the simulated coverage results.\n",
        "  \"\"\"\n",
        "  results = []\n",
        "\n",
        "  for _ in range(num_simulations):\n",
        "    total_enrolled : int = options['Poor'] + options['Not_poor']\n",
        "\n",
        "    # Leakage\n",
        "    not_poor_covered: int = np.random.binomial(options['Not_poor'], options['Leakage'])\n",
        "\n",
        "    # Reamining budget\n",
        "    remaining_budget: int = MAX_COVERAGE - (not_poor_covered)\n",
        "\n",
        "    # Cover as many poor people as possible with the remaining budget\n",
        "    poor_covered: int = min(remaining_budget, options['Poor'])\n",
        "\n",
        "    # Check if we still have the budget to cover more poor people\n",
        "    uncovered_poor: int = options['Poor'] - poor_covered\n",
        "\n",
        "    # Check for budget left\n",
        "    budget_left_over = remaining_budget - poor_covered\n",
        "\n",
        "    # Ensure that budget left over is more than 0 and poor people are more than 0\n",
        "    if budget_left_over > 0 and uncovered_poor > 0:\n",
        "        additional_coverage: int = min(uncovered_poor, budget_left_over)\n",
        "        poor_covered += additional_coverage\n",
        "\n",
        "    total_people_covered: int = poor_covered + not_poor_covered\n",
        "\n",
        "    results.append({\n",
        "        \"Poor_covered\": poor_covered,\n",
        "        \"Not_poor_covered\": not_poor_covered,\n",
        "        \"Total_covered\": total_people_covered,\n",
        "      }\n",
        "    )\n",
        "\n",
        "  return pd.DataFrame(results)\n"
      ],
      "metadata": {
        "id": "lZHMgV71pinL"
      },
      "execution_count": 130,
      "outputs": []
    },
    {
      "cell_type": "code",
      "source": [
        "def main() -> None:\n",
        "    \"\"\"\n",
        "    Main function to execute Monte Carlo simulations for all policy options and display summary statistics.\n",
        "    \"\"\"\n",
        "    # Keeping track of how long the function takes to execute\n",
        "    t1 = time.time()\n",
        "\n",
        "    # Run simulation\n",
        "    simulation_results: Dict[str, pd.DataFrame] = {option: monte_carlo_simulation(options=data) for option, data in OPTIONS.items()}\n",
        "\n",
        "    # Summary Stats in simulation_results\n",
        "    summary_stats: Dict[str, pd.DataFrame] = {}\n",
        "    for option, df in simulation_results.items():\n",
        "        stats = df.describe().apply(lambda s: s.map('{0:,.2f}'.format) if s.dtype == \"float64\" else s)\n",
        "        summary_stats[option] = stats\n",
        "\n",
        "    # Display summary stats for each option\n",
        "    for option, stats in summary_stats.items():\n",
        "        print(f\"\\nSummary statistics for {option}:\")\n",
        "        print(stats)\n",
        "        # Get Leagake\n",
        "        mean_not_poor_covered = float(stats.loc['mean', 'Not_poor_covered'].replace(',', ''))\n",
        "        leakage_percentage = (mean_not_poor_covered / TOTAL_POOR) * 100\n",
        "        print(f\"\\nLeakage: {mean_not_poor_covered}/{TOTAL_POOR} = {leakage_percentage:.2f}%\")\n",
        "\n",
        "    # Display time taken\n",
        "    print(f\"Time taken: {time.time() - t1:.4f} seconds\")\n",
        "\n",
        "# Driver\n",
        "if __name__ == \"__main__\":\n",
        "    main()\n"
      ],
      "metadata": {
        "colab": {
          "base_uri": "https://localhost:8080/"
        },
        "id": "OXcS3YnIMwY4",
        "outputId": "d40a8cba-a38a-4847-84e3-c87c27fa60d2"
      },
      "execution_count": 131,
      "outputs": [
        {
          "output_type": "stream",
          "name": "stdout",
          "text": [
            "\n",
            "Summary statistics for Option 1:\n",
            "       Poor_covered Not_poor_covered Total_covered\n",
            "count  1,000,000.00     1,000,000.00  1,000,000.00\n",
            "mean     637,897.00       145,970.27    783,867.27\n",
            "std            0.00           223.18        223.18\n",
            "min      637,897.00       144,820.00    782,717.00\n",
            "25%      637,897.00       145,820.00    783,717.00\n",
            "50%      637,897.00       145,971.00    783,868.00\n",
            "75%      637,897.00       146,121.00    784,018.00\n",
            "max      637,897.00       147,010.00    784,907.00\n",
            "\n",
            "Leakage: 145970.27/1872313 = 7.80%\n",
            "\n",
            "Summary statistics for Option 2:\n",
            "       Poor_covered Not_poor_covered Total_covered\n",
            "count  1,000,000.00     1,000,000.00  1,000,000.00\n",
            "mean     801,537.00       349,799.78  1,151,336.78\n",
            "std            0.00           387.28        387.28\n",
            "min      801,537.00       347,734.00  1,149,271.00\n",
            "25%      801,537.00       349,538.00  1,151,075.00\n",
            "50%      801,537.00       349,800.00  1,151,337.00\n",
            "75%      801,537.00       350,061.00  1,151,598.00\n",
            "max      801,537.00       351,709.00  1,153,246.00\n",
            "\n",
            "Leakage: 349799.78/1872313 = 18.68%\n",
            "\n",
            "Summary statistics for Option 3:\n",
            "       Poor_covered Not_poor_covered Total_covered\n",
            "count  1,000,000.00     1,000,000.00  1,000,000.00\n",
            "mean     539,187.53       877,478.47  1,416,666.00\n",
            "std          700.82           700.82          0.00\n",
            "min      535,927.00       874,128.00  1,416,666.00\n",
            "25%      538,716.00       877,006.00  1,416,666.00\n",
            "50%      539,187.00       877,479.00  1,416,666.00\n",
            "75%      539,660.00       877,950.00  1,416,666.00\n",
            "max      542,538.00       880,739.00  1,416,666.00\n",
            "\n",
            "Leakage: 877478.47/1872313 = 46.87%\n",
            "Time taken: 11.5997 seconds\n"
          ]
        }
      ]
    },
    {
      "cell_type": "markdown",
      "source": [],
      "metadata": {
        "id": "jyAI7NDIUxA3"
      }
    }
  ]
}