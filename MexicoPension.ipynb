{
  "nbformat": 4,
  "nbformat_minor": 0,
  "metadata": {
    "colab": {
      "provenance": [],
      "authorship_tag": "ABX9TyMsWxhM+bpHZnOZiWQBd2Rp",
      "include_colab_link": true
    },
    "kernelspec": {
      "name": "python3",
      "display_name": "Python 3"
    },
    "language_info": {
      "name": "python"
    }
  },
  "cells": [
    {
      "cell_type": "markdown",
      "metadata": {
        "id": "view-in-github",
        "colab_type": "text"
      },
      "source": [
        "<a href=\"https://colab.research.google.com/github/FarazNadeem22/Data-Strcutures/blob/master/MexicoPension.ipynb\" target=\"_parent\"><img src=\"https://colab.research.google.com/assets/colab-badge.svg\" alt=\"Open In Colab\"/></a>"
      ]
    },
    {
      "cell_type": "code",
      "execution_count": 124,
      "metadata": {
        "id": "06fMLtLPoHWT"
      },
      "outputs": [],
      "source": [
        "import numpy as np\n",
        "import pandas as pd\n",
        "import matplotlib.pyplot as plt\n",
        "from typing import Dict, Any\n",
        "import time"
      ]
    },
    {
      "cell_type": "markdown",
      "source": [
        "# Simulation parameters"
      ],
      "metadata": {
        "id": "VCqSGxKPoVnz"
      }
    },
    {
      "cell_type": "code",
      "source": [
        "# Simulation parameters\n",
        "NUM_SIMULATIONS = 1_0_0\n",
        "BUDGET: int = 8_500_000_000\n",
        "COST_PER_PERSON: int = 500 * 12\n",
        "MAX_COVERAGE: int = BUDGET // COST_PER_PERSON\n",
        "TOTAL_POOR = 1_872_313\n",
        "\n",
        "# Enrollment data with leakage and undercoverage rates\n",
        "OPTIONS: Dict[str, Dict[str, Any]] = {\n",
        "    \"Option 1\": {\n",
        "        \"Poor\": 637_897,\n",
        "        \"Not_poor\": 221_402,\n",
        "        \"Undercoverage\": .2576,\n",
        "        \"Leakage\": .6593\n",
        "         },\n",
        "    \"Option 2\": {\n",
        "        \"Poor\": 801_537,\n",
        "        \"Not_poor\": 611_645,\n",
        "        \"Undercoverage\": 0.4328,\n",
        "        \"Leakage\": .5719\n",
        "        },\n",
        "    \"Option 3\": {\n",
        "        \"Poor\": 1_047_934,\n",
        "        \"Not_poor\": 1_992_910,\n",
        "        \"Undercoverage\": .6554,\n",
        "        \"Leakage\": .4403\n",
        "        }\n",
        "    }"
      ],
      "metadata": {
        "id": "RMzIfWsGoT1g"
      },
      "execution_count": 125,
      "outputs": []
    },
    {
      "cell_type": "markdown",
      "source": [],
      "metadata": {
        "id": "3ugTPuS7uC9l"
      }
    },
    {
      "cell_type": "markdown",
      "source": [
        "# Monte Carlo Simulation"
      ],
      "metadata": {
        "id": "ltTwZ6mOpT88"
      }
    },
    {
      "cell_type": "code",
      "source": [
        "# Monete Carlo simulation function\n",
        "def monte_carlo_simulation(num_simulations: int = NUM_SIMULATIONS, max_coverage: int = MAX_COVERAGE, options: Dict[str, Any] = OPTIONS) -> pd.DataFrame:\n",
        "  \"\"\"\n",
        "  Runs a Monte Carlo simulation to estimate the expected number of poor and not-poor individuals covered under budget\n",
        "  constraints for a given policy option.\n",
        "\n",
        "  Returns:\n",
        "  pd.DataFrame: DataFrame containing the simulated coverage results.\n",
        "  \"\"\"\n",
        "  results = []\n",
        "\n",
        "  for _ in range(num_simulations):\n",
        "    total_enrolled : int = options['Poor'] + options['Not_poor']\n",
        "\n",
        "    # Leakage\n",
        "    not_poor_covered: int = np.random.binomial(options['Not_poor'], options['Leakage'])\n",
        "\n",
        "    # Reamining budget\n",
        "    remaining_budget: int = MAX_COVERAGE - (not_poor_covered)\n",
        "\n",
        "    # Cover as many poor people as possible with the remaining budget\n",
        "    poor_covered: int = min(remaining_budget, options['Poor'])\n",
        "\n",
        "    # Check if we still have the budget to cover more poor people\n",
        "    uncovered_poor: int = options['Poor'] - poor_covered\n",
        "\n",
        "    # Check for budget left\n",
        "    budget_left_over = remaining_budget - poor_covered\n",
        "\n",
        "    # Ensure that budget left over is more than 0 and poor people are more than 0\n",
        "    if budget_left_over > 0 and uncovered_poor > 0:\n",
        "        additional_coverage: int = min(uncovered_poor, budget_left_over)\n",
        "        poor_covered += additional_coverage\n",
        "\n",
        "    total_people_covered: int = poor_covered + not_poor_covered\n",
        "\n",
        "    results.append({\n",
        "        \"Poor_covered\": poor_covered,\n",
        "        \"Not_poor_covered\": not_poor_covered,\n",
        "        \"Total_covered\": total_people_covered,\n",
        "      }\n",
        "    )\n",
        "\n",
        "  return pd.DataFrame(results)\n"
      ],
      "metadata": {
        "id": "lZHMgV71pinL"
      },
      "execution_count": 126,
      "outputs": []
    },
    {
      "cell_type": "code",
      "source": [
        "def main() -> None:\n",
        "    \"\"\"\n",
        "    Main function to execute Monte Carlo simulations for all policy options and display summary statistics.\n",
        "    \"\"\"\n",
        "    # Keeping track of how long the function takes to execute\n",
        "    t1 = time.time()\n",
        "\n",
        "    # Run simulation\n",
        "    simulation_results: Dict[str, pd.DataFrame] = {option: monte_carlo_simulation(options=data) for option, data in OPTIONS.items()}\n",
        "\n",
        "    # Summary Stats in simulation_results\n",
        "    summary_stats: Dict[str, pd.DataFrame] = {}\n",
        "    for option, df in simulation_results.items():\n",
        "        stats = df.describe().apply(lambda s: s.map('{0:,.2f}'.format) if s.dtype == \"float64\" else s)\n",
        "        summary_stats[option] = stats\n",
        "\n",
        "    # Display summary stats for each option\n",
        "    for option, stats in summary_stats.items():\n",
        "        print(f\"\\nSummary statistics for {option}:\")\n",
        "        print(stats)\n",
        "        # Get Leagake\n",
        "        mean_not_poor_covered = float(stats.loc['mean', 'Not_poor_covered'].replace(',', ''))\n",
        "        leakage_percentage = (mean_not_poor_covered / TOTAL_POOR) * 100\n",
        "        print(f\"\\nLeakage: {mean_not_poor_covered}/{TOTAL_POOR} = {leakage_percentage:.2f}%\")\n",
        "\n",
        "    # Display time taken\n",
        "    print(f\"Time taken: {time.time() - t1:.4f} seconds\")\n",
        "\n",
        "# Ensure OPTIONS is defined before running main()\n",
        "if __name__ == \"__main__\":\n",
        "    main()\n"
      ],
      "metadata": {
        "colab": {
          "base_uri": "https://localhost:8080/"
        },
        "id": "OXcS3YnIMwY4",
        "outputId": "21b921d2-ff19-4421-b787-cde5ed70e149"
      },
      "execution_count": 127,
      "outputs": [
        {
          "output_type": "stream",
          "name": "stdout",
          "text": [
            "\n",
            "Summary statistics for Option 1:\n",
            "      Poor_covered Not_poor_covered Total_covered\n",
            "count       100.00           100.00        100.00\n",
            "mean    637,897.00       145,952.76    783,849.76\n",
            "std           0.00           194.36        194.36\n",
            "min     637,897.00       145,434.00    783,331.00\n",
            "25%     637,897.00       145,818.50    783,715.50\n",
            "50%     637,897.00       145,951.50    783,848.50\n",
            "75%     637,897.00       146,083.50    783,980.50\n",
            "max     637,897.00       146,492.00    784,389.00\n",
            "\n",
            "Leakage: 145952.76/1872313 = 7.80%\n",
            "\n",
            "Summary statistics for Option 2:\n",
            "      Poor_covered Not_poor_covered Total_covered\n",
            "count       100.00           100.00        100.00\n",
            "mean    801,537.00       349,840.08  1,151,377.08\n",
            "std           0.00           391.02        391.02\n",
            "min     801,537.00       348,671.00  1,150,208.00\n",
            "25%     801,537.00       349,590.75  1,151,127.75\n",
            "50%     801,537.00       349,829.50  1,151,366.50\n",
            "75%     801,537.00       350,127.25  1,151,664.25\n",
            "max     801,537.00       351,023.00  1,152,560.00\n",
            "\n",
            "Leakage: 349840.08/1872313 = 18.68%\n",
            "\n",
            "Summary statistics for Option 3:\n",
            "      Poor_covered Not_poor_covered Total_covered\n",
            "count       100.00           100.00        100.00\n",
            "mean    539,223.91       877,442.09  1,416,666.00\n",
            "std         774.79           774.79          0.00\n",
            "min     536,982.00       875,787.00  1,416,666.00\n",
            "25%     538,865.00       876,981.25  1,416,666.00\n",
            "50%     539,246.00       877,420.00  1,416,666.00\n",
            "75%     539,684.75       877,801.00  1,416,666.00\n",
            "max     540,879.00       879,684.00  1,416,666.00\n",
            "\n",
            "Leakage: 877442.09/1872313 = 46.86%\n",
            "Time taken: 0.0381 seconds\n"
          ]
        }
      ]
    },
    {
      "cell_type": "markdown",
      "source": [],
      "metadata": {
        "id": "jyAI7NDIUxA3"
      }
    }
  ]
}